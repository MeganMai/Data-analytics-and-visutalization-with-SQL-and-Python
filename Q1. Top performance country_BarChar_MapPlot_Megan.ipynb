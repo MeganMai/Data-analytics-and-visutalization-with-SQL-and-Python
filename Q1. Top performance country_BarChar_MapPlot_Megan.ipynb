{
 "cells": [
  {
   "cell_type": "code",
   "execution_count": 65,
   "metadata": {},
   "outputs": [],
   "source": [
    "import pyodbc\n",
    "import pandas as pd\n",
    "import matplotlib.pyplot as plt\n",
    "import numpy as np\n",
    "import plotly.express as px  #for map plot\n",
    "import json #for Geojson data\n",
    "\n",
    "conn = pyodbc.connect('Driver={SQL Server};'\n",
    "                      'Server=DESKTOP-RTL5926;'\n",
    "                      'Database=AdventureWorks2019;'\n",
    "                      'Trusted_Connection=yes;')    \n",
    "                      \n"
   ]
  },
  {
   "cell_type": "code",
   "execution_count": 103,
   "metadata": {},
   "outputs": [],
   "source": [
    " #set a default place for fig to be shown without making it so heavy for Jupiter Note\n",
    "import plotly.io as pio\n",
    "pio.renderers.default='browser'"
   ]
  },
  {
   "cell_type": "code",
   "execution_count": null,
   "metadata": {},
   "outputs": [],
   "source": [
    "#check the top performance country\n",
    "Top_performing_country=pd.read_sql_query('SELECT * from top_performing_country',conn)\n",
    "print(Top_performing_country)"
   ]
  },
  {
   "cell_type": "code",
   "execution_count": null,
   "metadata": {},
   "outputs": [],
   "source": [
    "#create a df of regional sales in the US\n",
    "region_sales_US=pd.read_sql_query('SELECT * from region_sales_US',conn)\n",
    "print(region_sales_US)"
   ]
  },
  {
   "cell_type": "code",
   "execution_count": null,
   "metadata": {},
   "outputs": [],
   "source": [
    "#plot the double bar chart of regional sales performance YTD and Last Year\n",
    "labels = region_sales_US['region']\n",
    "Sales_YTD = region_sales_US['Sales_YTD']\n",
    "Sales_LastYear=region_sales_US['Sales_LastYear']\n",
    "\n",
    "x = np.arange(len(labels))  # the label locations\n",
    "width = 0.35  # the width of the bars\n",
    "\n",
    "fig, ax = plt.subplots()\n",
    "rects1 = ax.bar(x - width/2, Sales_YTD, width, label='Sales_YTD',color='purple')\n",
    "rects2 = ax.bar(x + width/2, Sales_LastYear, width, label='Sales_LastYear',color='orange')\n",
    "\n",
    "# Add some text for labels, title and custom x-axis tick labels, etc.\n",
    "#ax.set_xlabel('Regions')\n",
    "ax.set_ylabel('Sales')\n",
    "ax.set_title('Regional Sales YTD/Last Year US')\n",
    "ax.set_xticks(x, labels)\n",
    "ax.legend()\n",
    "\n",
    "fig.tight_layout()\n",
    "\n",
    "plt.show()"
   ]
  },
  {
   "cell_type": "code",
   "execution_count": 101,
   "metadata": {},
   "outputs": [],
   "source": [
    "#the double pie chart have provided information about the diferences earch region\n",
    "#but it has not show clearly the changes in percentage and total sales each period\n",
    "#the below codes are for making a double pie chart to provide the missing information\n",
    "import plotly.graph_objects as go\n",
    "from plotly.subplots import make_subplots\n",
    "#set the labels for the donuts\n",
    "labels = region_sales_US['region']\n",
    "\n",
    "fig = make_subplots(1, 2, specs=[[{'type':'domain'}, {'type':'domain'}]])\n",
    "                    #subplot_titles=['YTD', 'Last Year'])\n",
    "#create the 2 pies\n",
    "fig.add_trace(go.Pie(labels=labels, values=region_sales_US['Sales_YTD'], scalegroup='one',\n",
    "                     name=\"Sales YTD\"), 1, 1)\n",
    "fig.add_trace(go.Pie(labels=labels, values=region_sales_US['Sales_LastYear'], scalegroup='one',\n",
    "                     name=\"Sales Last Year\"), 1, 2)\n",
    "#make holes for donut charts\n",
    "fig.update_traces(hole=.4, hoverinfo=\"label+percent+name\")\n",
    "#update layout with title and donut titles\n",
    "fig.update_layout(\n",
    "    title_text='Regional Sales YTD/ Last Year US',\n",
    "    # Add annotations in the center of the donut pies.\n",
    "    annotations=[dict(text='YTD', x=0.20, y=0.5, font_size=20, showarrow=False),\n",
    "                 dict(text='Last Year', x=0.82, y=0.5, font_size=20, showarrow=False)])\n",
    "fig.show()"
   ]
  },
  {
   "cell_type": "code",
   "execution_count": null,
   "metadata": {},
   "outputs": [],
   "source": [
    "#the pie chart and bar chart show some differences about the sales YTD and Last Year.\n",
    "#clearly, sales YTD is significantly higher that one Last year\n",
    "# let's find out in which period the sale value is collected\n",
    "latest_order_time=pd.read_sql_query('select max(OrderDate) from sales.SalesOrderHeader',conn)\n",
    "print(latest_order_time)\n",
    "#surprisingly, the YTD period is the first 6month of 2014"
   ]
  },
  {
   "cell_type": "code",
   "execution_count": null,
   "metadata": {},
   "outputs": [],
   "source": [
    "#Stated to map the regions"
   ]
  },
  {
   "cell_type": "code",
   "execution_count": null,
   "metadata": {},
   "outputs": [],
   "source": [
    "\n",
    "#read Geojson file about US geography\n",
    "US_states = json.load(open('D:/2022/GENERATION/PROJECT_1/gz_2010_us_040_00_20m.json','r')) \n",
    "US_states['features'][1] #to check the value of geojson file, noticing the ID is the 'STATE' feature"
   ]
  },
  {
   "cell_type": "code",
   "execution_count": null,
   "metadata": {},
   "outputs": [],
   "source": [
    "#create a dict including names and ids of states\n",
    "state_id_map={}     \n",
    "for feature in US_states['features']:\n",
    "    feature['id']=feature['properties']['STATE']\n",
    "    state_id_map[feature['properties']['NAME']]=feature['id']\n",
    "print(state_id_map) "
   ]
  },
  {
   "cell_type": "code",
   "execution_count": null,
   "metadata": {},
   "outputs": [],
   "source": [
    "US_sales = pd.read_excel('D:/2022/GENERATION/PROJECT_1/US-states_sales.xlsx')  #read states_sales excel file\n",
    "US_sales['State']=US_sales['State'].str.strip() #trim unwanted spaces, otherwise, it can't be match with state_id_map\n",
    "print(US_sales)"
   ]
  },
  {
   "cell_type": "code",
   "execution_count": null,
   "metadata": {},
   "outputs": [],
   "source": [
    "#add the id to link the sales tata with the geojson data using lambda x\n",
    "US_sales['id'] = US_sales['State'].apply(lambda x: state_id_map[x])\n",
    "print(US_sales)"
   ]
  },
  {
   "cell_type": "code",
   "execution_count": 89,
   "metadata": {},
   "outputs": [],
   "source": [
    "#plot the map comparing the regional sales value YTD, result will be shown in browser\n",
    "px.choropleth(US_sales,locations='id', \n",
    "                geojson=US_states,\n",
    "                color='Sales_YTD',\n",
    "                scope='usa',\n",
    "                hover_name='State',\n",
    "                hover_data=['Sales_YTD'],\n",
    "                range_color=(2000000,1.1e+07), #this is to keep the color scale the same for the 2 periods\n",
    "                title='US Regional Sales YTD')\n"
   ]
  },
  {
   "cell_type": "code",
   "execution_count": 90,
   "metadata": {},
   "outputs": [],
   "source": [
    "#plot the map comparing the regional sales value last year, result will be shown in browser\n",
    "px.choropleth(US_sales,locations='id', \n",
    "                geojson=US_states,\n",
    "                color='Sales_LastYear',\n",
    "                scope='usa',\n",
    "                hover_name='State',\n",
    "                range_color=(2000000,1.1e+07), #this is to keep the color scale the same for the 2 periods\n",
    "                hover_data=['Sales_LastYear'],\n",
    "                title='US Regional Sales Last Year')"
   ]
  }
 ],
 "metadata": {
  "kernelspec": {
   "display_name": "Python 3.10.5 64-bit (windows store)",
   "language": "python",
   "name": "python3"
  },
  "language_info": {
   "codemirror_mode": {
    "name": "ipython",
    "version": 3
   },
   "file_extension": ".py",
   "mimetype": "text/x-python",
   "name": "python",
   "nbconvert_exporter": "python",
   "pygments_lexer": "ipython3",
   "version": "3.10.5"
  },
  "orig_nbformat": 4,
  "vscode": {
   "interpreter": {
    "hash": "58dbfdb34cf82127b32c5737e6183911655ff227e5c11e8f5e4b25048ae98ef2"
   }
  }
 },
 "nbformat": 4,
 "nbformat_minor": 2
}
